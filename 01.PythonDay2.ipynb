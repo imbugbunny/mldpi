{
 "cells": [
  {
   "cell_type": "code",
   "execution_count": 1,
   "metadata": {},
   "outputs": [],
   "source": [
    "l = ['a', \"b\"]"
   ]
  },
  {
   "cell_type": "code",
   "execution_count": 2,
   "metadata": {},
   "outputs": [
    {
     "data": {
      "text/plain": [
       "['a', 'b']"
      ]
     },
     "execution_count": 2,
     "metadata": {},
     "output_type": "execute_result"
    }
   ],
   "source": [
    "l"
   ]
  },
  {
   "cell_type": "code",
   "execution_count": 3,
   "metadata": {},
   "outputs": [],
   "source": [
    "l.append([1,2])"
   ]
  },
  {
   "cell_type": "code",
   "execution_count": 4,
   "metadata": {},
   "outputs": [
    {
     "data": {
      "text/plain": [
       "['a', 'b', [1, 2]]"
      ]
     },
     "execution_count": 4,
     "metadata": {},
     "output_type": "execute_result"
    }
   ],
   "source": [
    "l"
   ]
  },
  {
   "cell_type": "code",
   "execution_count": 5,
   "metadata": {},
   "outputs": [],
   "source": [
    "l.append(list('jklsjklsjls'))"
   ]
  },
  {
   "cell_type": "code",
   "execution_count": 6,
   "metadata": {},
   "outputs": [
    {
     "data": {
      "text/plain": [
       "['a', 'b', [1, 2], ['j', 'k', 'l', 's', 'j', 'k', 'l', 's', 'j', 'l', 's']]"
      ]
     },
     "execution_count": 6,
     "metadata": {},
     "output_type": "execute_result"
    }
   ],
   "source": [
    "l"
   ]
  },
  {
   "cell_type": "code",
   "execution_count": 7,
   "metadata": {},
   "outputs": [
    {
     "data": {
      "text/plain": [
       "4"
      ]
     },
     "execution_count": 7,
     "metadata": {},
     "output_type": "execute_result"
    }
   ],
   "source": [
    "len(l)"
   ]
  },
  {
   "cell_type": "code",
   "execution_count": 10,
   "metadata": {},
   "outputs": [
    {
     "name": "stdout",
     "output_type": "stream",
     "text": [
      "a\n",
      "b\n",
      "[1, 2]\n",
      "['j', 'k', 'l', 's', 'j', 'k', 'l', 's', 'j', 'l', 's']\n"
     ]
    }
   ],
   "source": [
    "### for loop\n",
    "for i in l:\n",
    "    print(i)"
   ]
  },
  {
   "cell_type": "code",
   "execution_count": 13,
   "metadata": {},
   "outputs": [
    {
     "name": "stdout",
     "output_type": "stream",
     "text": [
      "a\n",
      "b\n",
      "2\n",
      "11\n"
     ]
    }
   ],
   "source": [
    "for i in l:\n",
    "    if(len(i) > 1):\n",
    "        print(len(i))\n",
    "    else:\n",
    "        print(i)"
   ]
  },
  {
   "cell_type": "code",
   "execution_count": 18,
   "metadata": {},
   "outputs": [
    {
     "name": "stdout",
     "output_type": "stream",
     "text": [
      "24 28\n"
     ]
    }
   ],
   "source": [
    "### sum of even and odd number\n",
    "lst = [1,3,4,6,7,9,8,2,3,4,5]\n",
    "oddSum = 0\n",
    "evenSum = 0\n",
    "for i in lst:\n",
    "    if(i % 2 == 0):\n",
    "        evenSum += i\n",
    "    else:\n",
    "        oddSum += i\n",
    "        \n",
    "print(evenSum, oddSum)"
   ]
  },
  {
   "cell_type": "code",
   "execution_count": 25,
   "metadata": {},
   "outputs": [
    {
     "name": "stdout",
     "output_type": "stream",
     "text": [
      "Compulsory 137\n"
     ]
    }
   ],
   "source": [
    "### for loop with else\n",
    "### else only gets executed if no break statement was executed\n",
    "\n",
    "lst = [4,5,3,4,21,45,6,8,21,8,9,3]\n",
    "sum1 = 0\n",
    "for l in lst:\n",
    "    if l == 2:\n",
    "        break\n",
    "    sum1 += l\n",
    "else:\n",
    "    print(\"Compulsory {}\".format(sum1))"
   ]
  },
  {
   "cell_type": "code",
   "execution_count": 4,
   "metadata": {},
   "outputs": [
    {
     "name": "stdout",
     "output_type": "stream",
     "text": [
      "24 28\n"
     ]
    }
   ],
   "source": [
    "### sum of even and odd number using while\n",
    "lst = [1,3,4,6,7,9,8,2,3,4,5]\n",
    "oddSum = 0\n",
    "evenSum = 0\n",
    "i = 0\n",
    "while i < len(lst):\n",
    "    if(lst[i] % 2 == 0):\n",
    "        evenSum += lst[i]\n",
    "    else:\n",
    "        oddSum += lst[i]\n",
    "    i += 1\n",
    "        \n",
    "print(evenSum, oddSum)"
   ]
  },
  {
   "cell_type": "code",
   "execution_count": 3,
   "metadata": {},
   "outputs": [
    {
     "name": "stdout",
     "output_type": "stream",
     "text": [
      "1\n"
     ]
    }
   ],
   "source": [
    "lst = [1,2]\n",
    "len(lst)\n",
    "print(lst[0])"
   ]
  },
  {
   "cell_type": "code",
   "execution_count": 5,
   "metadata": {},
   "outputs": [
    {
     "data": {
      "text/plain": [
       "45"
      ]
     },
     "execution_count": 5,
     "metadata": {},
     "output_type": "execute_result"
    }
   ],
   "source": [
    "sum(range(1,10))"
   ]
  },
  {
   "cell_type": "code",
   "execution_count": null,
   "metadata": {},
   "outputs": [],
   "source": []
  }
 ],
 "metadata": {
  "kernelspec": {
   "display_name": "Python 3",
   "language": "python",
   "name": "python3"
  },
  "language_info": {
   "codemirror_mode": {
    "name": "ipython",
    "version": 3
   },
   "file_extension": ".py",
   "mimetype": "text/x-python",
   "name": "python",
   "nbconvert_exporter": "python",
   "pygments_lexer": "ipython3",
   "version": "3.8.5"
  }
 },
 "nbformat": 4,
 "nbformat_minor": 4
}
